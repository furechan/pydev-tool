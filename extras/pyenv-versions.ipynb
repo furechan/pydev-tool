{
 "cells": [
  {
   "cell_type": "code",
   "execution_count": 20,
   "id": "initial_id",
   "metadata": {
    "collapsed": true,
    "ExecuteTime": {
     "end_time": "2023-12-09T13:05:41.824101Z",
     "start_time": "2023-12-09T13:05:41.794083Z"
    }
   },
   "outputs": [],
   "source": [
    "from pathlib import Path\n",
    "from pydev import utils\n"
   ]
  },
  {
   "cell_type": "code",
   "execution_count": 21,
   "outputs": [
    {
     "data": {
      "text/plain": "True"
     },
     "execution_count": 21,
     "metadata": {},
     "output_type": "execute_result"
    }
   ],
   "source": [
    "pyenv_root = Path(\"~/.pyenv\").expanduser()\n",
    "pyenv_root.exists()\n"
   ],
   "metadata": {
    "collapsed": false,
    "ExecuteTime": {
     "end_time": "2023-12-09T13:05:42.221576Z",
     "start_time": "2023-12-09T13:05:42.213105Z"
    }
   },
   "id": "136a3751b77cf597"
  },
  {
   "cell_type": "code",
   "execution_count": 18,
   "outputs": [
    {
     "data": {
      "text/plain": "['python3.10', 'python3.9', 'python3.11']"
     },
     "execution_count": 18,
     "metadata": {},
     "output_type": "execute_result"
    }
   ],
   "source": [
    "[p.name for p in pyenv_root.glob(\"versions/*/bin/python3.*[0-9]\")]\n"
   ],
   "metadata": {
    "collapsed": false,
    "ExecuteTime": {
     "end_time": "2023-12-09T12:49:39.448675Z",
     "start_time": "2023-12-09T12:49:39.435984Z"
    }
   },
   "id": "c1ddb28e0c6ebe89"
  },
  {
   "cell_type": "code",
   "execution_count": 19,
   "outputs": [
    {
     "data": {
      "text/plain": "['python3.10', 'python3.9', 'python3.11']"
     },
     "execution_count": 19,
     "metadata": {},
     "output_type": "execute_result"
    }
   ],
   "source": [
    "list(utils.pyenv_versions())\n"
   ],
   "metadata": {
    "collapsed": false,
    "ExecuteTime": {
     "end_time": "2023-12-09T12:49:39.655001Z",
     "start_time": "2023-12-09T12:49:39.643694Z"
    }
   },
   "id": "abf8474089f002f6"
  },
  {
   "cell_type": "code",
   "execution_count": 19,
   "outputs": [],
   "source": [],
   "metadata": {
    "collapsed": false,
    "ExecuteTime": {
     "end_time": "2023-12-09T12:49:40.093879Z",
     "start_time": "2023-12-09T12:49:40.092382Z"
    }
   },
   "id": "786c19c3de086113"
  },
  {
   "cell_type": "code",
   "execution_count": null,
   "outputs": [],
   "source": [],
   "metadata": {
    "collapsed": false
   },
   "id": "c4c17113c16f5468"
  }
 ],
 "metadata": {
  "kernelspec": {
   "display_name": "Python 3",
   "language": "python",
   "name": "python3"
  },
  "language_info": {
   "codemirror_mode": {
    "name": "ipython",
    "version": 2
   },
   "file_extension": ".py",
   "mimetype": "text/x-python",
   "name": "python",
   "nbconvert_exporter": "python",
   "pygments_lexer": "ipython2",
   "version": "2.7.6"
  }
 },
 "nbformat": 4,
 "nbformat_minor": 5
}
