{
 "cells": [
  {
   "cell_type": "code",
   "execution_count": 10,
   "id": "initial_id",
   "metadata": {
    "collapsed": true,
    "ExecuteTime": {
     "end_time": "2023-12-09T20:11:24.536507Z",
     "start_time": "2023-12-09T20:11:24.520978Z"
    }
   },
   "outputs": [
    {
     "ename": "SyntaxError",
     "evalue": "'(' was never closed (utils.py, line 65)",
     "output_type": "error",
     "traceback": [
      "Traceback \u001B[0;36m(most recent call last)\u001B[0m:\n",
      "\u001B[0m  File \u001B[1;32m~/miniconda3/lib/python3.11/site-packages/IPython/core/interactiveshell.py:3508\u001B[0m in \u001B[1;35mrun_code\u001B[0m\n    exec(code_obj, self.user_global_ns, self.user_ns)\u001B[0m\n",
      "\u001B[0m  Cell \u001B[1;32mIn[10], line 4\u001B[0m\n    from pydev import utils\u001B[0m\n",
      "\u001B[0m  File \u001B[1;32m~/Projects/Python/pydev-click/src/pydev/__init__.py:1\u001B[0m\n    from .program import main\u001B[0m\n",
      "\u001B[0;36m  File \u001B[0;32m~/Projects/Python/pydev-click/src/pydev/program.py:14\u001B[0;36m\n\u001B[0;31m    from .utils import get_project_root, get_config, get_python\u001B[0;36m\n",
      "\u001B[0;36m  File \u001B[0;32m~/Projects/Python/pydev-click/src/pydev/utils.py:65\u001B[0;36m\u001B[0m\n\u001B[0;31m    path = os.getenv(\"PATH\", \"/usr/bin:/bin:/usr/sbin:/sbin:/usr/local/bin)\"\u001B[0m\n\u001B[0m                    ^\u001B[0m\n\u001B[0;31mSyntaxError\u001B[0m\u001B[0;31m:\u001B[0m '(' was never closed\n"
     ]
    }
   ],
   "source": [
    "import os\n",
    "\n",
    "from pathlib import Path\n",
    "from pydev import utils"
   ]
  },
  {
   "cell_type": "code",
   "execution_count": 11,
   "outputs": [
    {
     "ename": "NameError",
     "evalue": "name 'utils' is not defined",
     "output_type": "error",
     "traceback": [
      "\u001B[0;31m---------------------------------------------------------------------------\u001B[0m",
      "\u001B[0;31mNameError\u001B[0m                                 Traceback (most recent call last)",
      "Cell \u001B[0;32mIn[11], line 1\u001B[0m\n\u001B[0;32m----> 1\u001B[0m \u001B[38;5;28mlist\u001B[39m(utils\u001B[38;5;241m.\u001B[39msearch_path(\u001B[38;5;124m\"\u001B[39m\u001B[38;5;124mpython3.9\u001B[39m\u001B[38;5;124m\"\u001B[39m))\n",
      "\u001B[0;31mNameError\u001B[0m: name 'utils' is not defined"
     ]
    }
   ],
   "source": [
    "list(utils.search_path(\"python3.9\"))\n"
   ],
   "metadata": {
    "collapsed": false,
    "ExecuteTime": {
     "end_time": "2023-12-09T20:11:24.960451Z",
     "start_time": "2023-12-09T20:11:24.944363Z"
    }
   },
   "id": "dcb8cb29857b067d"
  },
  {
   "cell_type": "code",
   "execution_count": 12,
   "outputs": [
    {
     "data": {
      "text/plain": "['/Users/frederic/miniconda3/bin',\n '/Users/frederic/miniconda3/condabin',\n '/Users/frederic/.cargo/bin',\n '/opt/homebrew/bin',\n '/opt/homebrew/sbin',\n '/usr/local/bin',\n '/System/Cryptexes/App/usr/bin',\n '/usr/bin',\n '/bin',\n '/usr/sbin',\n '/sbin',\n '/var/run/com.apple.security.cryptexd/codex.system/bootstrap/usr/local/bin',\n '/var/run/com.apple.security.cryptexd/codex.system/bootstrap/usr/bin',\n '/var/run/com.apple.security.cryptexd/codex.system/bootstrap/usr/appleinternal/bin',\n '/usr/local/share/dotnet',\n '~/.dotnet/tools',\n '/Users/frederic/Documents/MacOS/Scripts']"
     },
     "execution_count": 12,
     "metadata": {},
     "output_type": "execute_result"
    }
   ],
   "source": [
    "path = os.getenv(\"PATH\", \"/usr/bin:/bin:/usr/sbin:/sbin:/usr/local/bin)\")\n",
    "path = path.split(os.pathsep)\n",
    "path"
   ],
   "metadata": {
    "collapsed": false,
    "ExecuteTime": {
     "end_time": "2023-12-09T20:11:25.119156Z",
     "start_time": "2023-12-09T20:11:25.107982Z"
    }
   },
   "id": "683c02f1da217986"
  },
  {
   "cell_type": "code",
   "execution_count": 15,
   "outputs": [
    {
     "data": {
      "text/plain": "[PosixPath('/Users/frederic/miniconda3/bin/python3'),\n PosixPath('/opt/homebrew/bin/python3'),\n PosixPath('/usr/bin/python3')]"
     },
     "execution_count": 15,
     "metadata": {},
     "output_type": "execute_result"
    }
   ],
   "source": [
    "\n",
    "\n",
    "\n",
    "[i for p in path for i in Path(p).glob(\"python3\")]\n"
   ],
   "metadata": {
    "collapsed": false,
    "ExecuteTime": {
     "end_time": "2023-12-09T20:12:20.459700Z",
     "start_time": "2023-12-09T20:12:20.442618Z"
    }
   },
   "id": "b372543153b0e04b"
  },
  {
   "cell_type": "code",
   "execution_count": null,
   "outputs": [],
   "source": [],
   "metadata": {
    "collapsed": false
   },
   "id": "be181c898bf36f6c"
  }
 ],
 "metadata": {
  "kernelspec": {
   "display_name": "Python 3",
   "language": "python",
   "name": "python3"
  },
  "language_info": {
   "codemirror_mode": {
    "name": "ipython",
    "version": 2
   },
   "file_extension": ".py",
   "mimetype": "text/x-python",
   "name": "python",
   "nbconvert_exporter": "python",
   "pygments_lexer": "ipython2",
   "version": "2.7.6"
  }
 },
 "nbformat": 4,
 "nbformat_minor": 5
}
