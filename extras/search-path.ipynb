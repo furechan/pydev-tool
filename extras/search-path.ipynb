{
 "cells": [
  {
   "cell_type": "code",
   "execution_count": 1,
   "id": "1c4d2aea9098267d",
   "metadata": {
    "ExecuteTime": {
     "end_time": "2023-12-14T17:44:33.110219Z",
     "start_time": "2023-12-14T17:44:33.096689Z"
    },
    "collapsed": false
   },
   "outputs": [
    {
     "data": {
      "text/plain": [
       "'/Users/frederic/Projects/Python/pydev-tool/.venv/bin/python'"
      ]
     },
     "execution_count": 1,
     "metadata": {},
     "output_type": "execute_result"
    }
   ],
   "source": [
    "import sys\n",
    "\n",
    "sys.executable"
   ]
  },
  {
   "cell_type": "code",
   "execution_count": 2,
   "id": "initial_id",
   "metadata": {
    "ExecuteTime": {
     "end_time": "2023-12-12T23:15:06.081105Z",
     "start_time": "2023-12-12T23:15:06.066873Z"
    },
    "collapsed": true
   },
   "outputs": [],
   "source": [
    "import os\n",
    "\n",
    "from pathlib import Path\n",
    "from pydev import utils"
   ]
  },
  {
   "cell_type": "code",
   "execution_count": 3,
   "id": "dcb8cb29857b067d",
   "metadata": {
    "ExecuteTime": {
     "end_time": "2023-12-12T23:15:06.488213Z",
     "start_time": "2023-12-12T23:15:06.477263Z"
    },
    "collapsed": false
   },
   "outputs": [
    {
     "data": {
      "text/plain": [
       "[PosixPath('/Users/frederic/Projects/Python/pydev-tool/.venv/bin/python3.9'),\n",
       " PosixPath('/opt/homebrew/bin/python3.9')]"
      ]
     },
     "execution_count": 3,
     "metadata": {},
     "output_type": "execute_result"
    }
   ],
   "source": [
    "list(utils.search_path(\"python3.9\"))\n"
   ]
  },
  {
   "cell_type": "code",
   "execution_count": 4,
   "id": "683c02f1da217986",
   "metadata": {
    "ExecuteTime": {
     "end_time": "2023-12-12T23:15:06.819548Z",
     "start_time": "2023-12-12T23:15:06.807362Z"
    },
    "collapsed": false
   },
   "outputs": [
    {
     "data": {
      "text/plain": [
       "19"
      ]
     },
     "execution_count": 4,
     "metadata": {},
     "output_type": "execute_result"
    }
   ],
   "source": [
    "path = os.getenv(\"PATH\", \"/usr/bin:/bin:/usr/sbin:/sbin:/usr/local/bin)\")\n",
    "path = path.split(os.pathsep)\n",
    "len(path)"
   ]
  },
  {
   "cell_type": "code",
   "execution_count": 5,
   "id": "b372543153b0e04b",
   "metadata": {
    "ExecuteTime": {
     "end_time": "2023-12-12T23:15:07.188286Z",
     "start_time": "2023-12-12T23:15:07.172980Z"
    },
    "collapsed": false
   },
   "outputs": [
    {
     "data": {
      "text/plain": [
       "['python3', 'python3', 'python3', 'python3']"
      ]
     },
     "execution_count": 5,
     "metadata": {},
     "output_type": "execute_result"
    }
   ],
   "source": [
    "[i.name for p in path for i in Path(p).glob(\"python3\")]\n"
   ]
  },
  {
   "cell_type": "code",
   "execution_count": null,
   "id": "be181c898bf36f6c",
   "metadata": {
    "collapsed": false
   },
   "outputs": [],
   "source": []
  }
 ],
 "metadata": {
  "kernelspec": {
   "display_name": ".venv",
   "language": "python",
   "name": "python3"
  },
  "language_info": {
   "codemirror_mode": {
    "name": "ipython",
    "version": 3
   },
   "file_extension": ".py",
   "mimetype": "text/x-python",
   "name": "python",
   "nbconvert_exporter": "python",
   "pygments_lexer": "ipython3",
   "version": "3.9.18"
  }
 },
 "nbformat": 4,
 "nbformat_minor": 5
}
