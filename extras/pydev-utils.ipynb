{
 "cells": [
  {
   "cell_type": "code",
   "execution_count": 10,
   "id": "initial_id",
   "metadata": {
    "collapsed": true,
    "ExecuteTime": {
     "end_time": "2023-12-12T23:14:59.989705Z",
     "start_time": "2023-12-12T23:14:59.979839Z"
    }
   },
   "outputs": [],
   "source": [
    "from pathlib import Path\n",
    "from pydev import utils\n"
   ]
  },
  {
   "cell_type": "code",
   "execution_count": 11,
   "outputs": [
    {
     "data": {
      "text/plain": "True"
     },
     "execution_count": 11,
     "metadata": {},
     "output_type": "execute_result"
    }
   ],
   "source": [
    "pyenv_root = Path(\"~/.pyenv\").expanduser()\n",
    "pyenv_root.exists()\n"
   ],
   "metadata": {
    "collapsed": false,
    "ExecuteTime": {
     "end_time": "2023-12-12T23:15:00.409118Z",
     "start_time": "2023-12-12T23:15:00.400355Z"
    }
   },
   "id": "136a3751b77cf597"
  },
  {
   "cell_type": "code",
   "execution_count": 12,
   "outputs": [
    {
     "data": {
      "text/plain": "['python3.10', 'python3.9', 'python3.11']"
     },
     "execution_count": 12,
     "metadata": {},
     "output_type": "execute_result"
    }
   ],
   "source": [
    "[p.name for p in pyenv_root.glob(\"versions/*/bin/python3.*[0-9]\")]\n"
   ],
   "metadata": {
    "collapsed": false,
    "ExecuteTime": {
     "end_time": "2023-12-12T23:15:00.859859Z",
     "start_time": "2023-12-12T23:15:00.847879Z"
    }
   },
   "id": "c1ddb28e0c6ebe89"
  },
  {
   "cell_type": "code",
   "execution_count": 13,
   "outputs": [
    {
     "data": {
      "text/plain": "['3.10.13', '3.9.18', '3.9', '3.11.6']"
     },
     "execution_count": 13,
     "metadata": {},
     "output_type": "execute_result"
    }
   ],
   "source": [
    "[p.name for p in utils.pyenv_versions()]\n"
   ],
   "metadata": {
    "collapsed": false,
    "ExecuteTime": {
     "end_time": "2023-12-12T23:15:01.426742Z",
     "start_time": "2023-12-12T23:15:01.416259Z"
    }
   },
   "id": "abf8474089f002f6"
  },
  {
   "cell_type": "code",
   "execution_count": 14,
   "outputs": [
    {
     "data": {
      "text/plain": "True"
     },
     "execution_count": 14,
     "metadata": {},
     "output_type": "execute_result"
    }
   ],
   "source": [
    "python = utils.pyenv_python()\n",
    "python.exists()"
   ],
   "metadata": {
    "collapsed": false,
    "ExecuteTime": {
     "end_time": "2023-12-12T23:15:02.048943Z",
     "start_time": "2023-12-12T23:15:02.038830Z"
    }
   },
   "id": "786c19c3de086113"
  },
  {
   "cell_type": "code",
   "execution_count": 15,
   "outputs": [
    {
     "data": {
      "text/plain": "True"
     },
     "execution_count": 15,
     "metadata": {},
     "output_type": "execute_result"
    }
   ],
   "source": [
    "python = utils.conda_python()\n",
    "python.exists()"
   ],
   "metadata": {
    "collapsed": false,
    "ExecuteTime": {
     "end_time": "2023-12-12T23:15:02.424776Z",
     "start_time": "2023-12-12T23:15:02.415252Z"
    }
   },
   "id": "c4c17113c16f5468"
  },
  {
   "cell_type": "code",
   "execution_count": null,
   "outputs": [],
   "source": [],
   "metadata": {
    "collapsed": false
   },
   "id": "ede99a017eda227c"
  }
 ],
 "metadata": {
  "kernelspec": {
   "name": "python3",
   "language": "python",
   "display_name": "Python 3 (ipykernel)"
  },
  "language_info": {
   "codemirror_mode": {
    "name": "ipython",
    "version": 2
   },
   "file_extension": ".py",
   "mimetype": "text/x-python",
   "name": "python",
   "nbconvert_exporter": "python",
   "pygments_lexer": "ipython2",
   "version": "2.7.6"
  }
 },
 "nbformat": 4,
 "nbformat_minor": 5
}
