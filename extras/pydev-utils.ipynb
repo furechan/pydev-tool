{
 "cells": [
  {
   "cell_type": "code",
   "execution_count": 17,
   "id": "ed9c068ed04eecf5",
   "metadata": {
    "ExecuteTime": {
     "end_time": "2023-12-14T17:43:29.688698Z",
     "start_time": "2023-12-14T17:43:29.679330Z"
    },
    "collapsed": false
   },
   "outputs": [],
   "source": [
    "from pathlib import Path\n",
    "from pydev import utils\n"
   ]
  },
  {
   "cell_type": "code",
   "execution_count": 18,
   "id": "136a3751b77cf597",
   "metadata": {
    "ExecuteTime": {
     "end_time": "2023-12-12T23:15:00.409118Z",
     "start_time": "2023-12-12T23:15:00.400355Z"
    },
    "collapsed": false
   },
   "outputs": [
    {
     "data": {
      "text/plain": [
       "False"
      ]
     },
     "execution_count": 18,
     "metadata": {},
     "output_type": "execute_result"
    }
   ],
   "source": [
    "pyenv_root = Path(\"~/.pyenv\").expanduser()\n",
    "pyenv_root.exists()\n"
   ]
  },
  {
   "cell_type": "code",
   "execution_count": 19,
   "id": "c1ddb28e0c6ebe89",
   "metadata": {
    "ExecuteTime": {
     "end_time": "2023-12-12T23:15:00.859859Z",
     "start_time": "2023-12-12T23:15:00.847879Z"
    },
    "collapsed": false
   },
   "outputs": [
    {
     "data": {
      "text/plain": [
       "[]"
      ]
     },
     "execution_count": 19,
     "metadata": {},
     "output_type": "execute_result"
    }
   ],
   "source": [
    "[p.name for p in pyenv_root.glob(\"versions/*/bin/python3.*[0-9]\")]\n"
   ]
  },
  {
   "cell_type": "code",
   "execution_count": 20,
   "id": "abf8474089f002f6",
   "metadata": {
    "ExecuteTime": {
     "end_time": "2023-12-12T23:15:01.426742Z",
     "start_time": "2023-12-12T23:15:01.416259Z"
    },
    "collapsed": false
   },
   "outputs": [
    {
     "data": {
      "text/plain": [
       "[]"
      ]
     },
     "execution_count": 20,
     "metadata": {},
     "output_type": "execute_result"
    }
   ],
   "source": [
    "[p.name for p in utils.pyenv_versions()]\n"
   ]
  },
  {
   "cell_type": "code",
   "execution_count": 21,
   "id": "786c19c3de086113",
   "metadata": {
    "ExecuteTime": {
     "end_time": "2023-12-12T23:15:02.048943Z",
     "start_time": "2023-12-12T23:15:02.038830Z"
    },
    "collapsed": false
   },
   "outputs": [],
   "source": [
    "python = utils.pyenv_python()\n",
    "python.name if python else None\n"
   ]
  },
  {
   "cell_type": "code",
   "execution_count": 22,
   "id": "c4c17113c16f5468",
   "metadata": {
    "ExecuteTime": {
     "end_time": "2023-12-12T23:15:02.424776Z",
     "start_time": "2023-12-12T23:15:02.415252Z"
    },
    "collapsed": false
   },
   "outputs": [],
   "source": [
    "utils.conda_python()\n",
    "python.name if python else None\n"
   ]
  },
  {
   "cell_type": "code",
   "execution_count": null,
   "id": "ede99a017eda227c",
   "metadata": {
    "collapsed": false
   },
   "outputs": [],
   "source": []
  },
  {
   "cell_type": "code",
   "execution_count": null,
   "id": "9e514df1",
   "metadata": {},
   "outputs": [],
   "source": []
  }
 ],
 "metadata": {
  "kernelspec": {
   "display_name": ".venv",
   "language": "python",
   "name": "python3"
  },
  "language_info": {
   "codemirror_mode": {
    "name": "ipython",
    "version": 3
   },
   "file_extension": ".py",
   "mimetype": "text/x-python",
   "name": "python",
   "nbconvert_exporter": "python",
   "pygments_lexer": "ipython3",
   "version": "3.9.6"
  }
 },
 "nbformat": 4,
 "nbformat_minor": 5
}
